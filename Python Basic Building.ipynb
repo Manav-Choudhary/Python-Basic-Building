{
 "cells": [
  {
   "cell_type": "code",
   "execution_count": 1,
   "id": "8bc4e28e",
   "metadata": {},
   "outputs": [],
   "source": [
    "#Ques 1\n",
    "a='PW'\n",
    "b=[1,2,3.0,'Manav']\n",
    "c=4.0\n",
    "d=(1,2,3)"
   ]
  },
  {
   "cell_type": "code",
   "execution_count": 3,
   "id": "019dbad0",
   "metadata": {},
   "outputs": [
    {
     "name": "stdout",
     "output_type": "stream",
     "text": [
      "<class 'str'>\n",
      "<class 'str'>\n",
      "<class 'list'>\n",
      "<class 'int'>\n"
     ]
    }
   ],
   "source": [
    "#Ques 2\n",
    "var1 =' '\n",
    "var2 ='[ DS , ML , Python]'\n",
    "var3=['DS' , 'ML' , 'Python']\n",
    "var4=1\n",
    "print(type(var1))\n",
    "print(type(var2))\n",
    "print(type(var3))\n",
    "print(type(var4))"
   ]
  },
  {
   "cell_type": "code",
   "execution_count": 7,
   "id": "4a4eeab6",
   "metadata": {},
   "outputs": [
    {
     "name": "stdout",
     "output_type": "stream",
     "text": [
      "2.5\n",
      "1\n",
      "2\n",
      "25\n"
     ]
    }
   ],
   "source": [
    "#Ques 3\n",
    "print(5/2)\n",
    "print(5%2)\n",
    "print(5//2)\n",
    "print(5**2)"
   ]
  },
  {
   "cell_type": "code",
   "execution_count": 10,
   "id": "e748ee7d",
   "metadata": {},
   "outputs": [
    {
     "name": "stdout",
     "output_type": "stream",
     "text": [
      "1 <class 'int'>\n",
      "2 <class 'int'>\n",
      "3 <class 'int'>\n",
      "4 <class 'int'>\n",
      "5 <class 'int'>\n",
      "6 <class 'int'>\n",
      "7.0 <class 'float'>\n",
      "  <class 'str'>\n",
      "(1, 2) <class 'tuple'>\n",
      "[3, 4] <class 'list'>\n"
     ]
    }
   ],
   "source": [
    "#Ques 4\n",
    "mylist=[1,2,3,4,5,6,7.0,\" \",(1,2),[3,4]]\n",
    "for i in mylist:\n",
    "    print(str(i),end=\" \")\n",
    "    print(type(i))"
   ]
  },
  {
   "cell_type": "code",
   "execution_count": 19,
   "id": "ef3b7c20",
   "metadata": {},
   "outputs": [
    {
     "name": "stdout",
     "output_type": "stream",
     "text": [
      "Enter the 1st Number:8\n",
      "Enter the 2nd Number:2\n",
      "3\n"
     ]
    }
   ],
   "source": [
    "#Ques 5\n",
    "a=int(input(\"Enter the 1st Number:\"))\n",
    "b=int(input(\"Enter the 2nd Number:\"))\n",
    "def func(a,b):\n",
    "    if a%b!=0:\n",
    "        return \"Not divisible\"\n",
    "    count=0\n",
    "    while(a%b==0):\n",
    "        count=count+1\n",
    "        a=a//b\n",
    "    return count\n",
    "print(func(a,b))"
   ]
  },
  {
   "cell_type": "code",
   "execution_count": 18,
   "id": "e5c0469e",
   "metadata": {},
   "outputs": [
    {
     "name": "stdout",
     "output_type": "stream",
     "text": [
      "0 is divisible by 3\n",
      "1 not divisible by 3\n",
      "2 not divisible by 3\n",
      "3 is divisible by 3\n",
      "4 not divisible by 3\n",
      "5 not divisible by 3\n",
      "6 is divisible by 3\n",
      "7 not divisible by 3\n",
      "8 not divisible by 3\n",
      "9 is divisible by 3\n",
      "10 not divisible by 3\n",
      "11 not divisible by 3\n",
      "12 is divisible by 3\n",
      "13 not divisible by 3\n",
      "14 not divisible by 3\n",
      "15 is divisible by 3\n",
      "16 not divisible by 3\n",
      "17 not divisible by 3\n",
      "18 is divisible by 3\n",
      "19 not divisible by 3\n",
      "20 not divisible by 3\n",
      "21 is divisible by 3\n",
      "22 not divisible by 3\n",
      "23 not divisible by 3\n",
      "24 is divisible by 3\n"
     ]
    }
   ],
   "source": [
    "#Ques 6\n",
    "#using list comprehensions to create a list of 25 integers\n",
    "mylist=[x for x in range(25)]\n",
    "for i in mylist:\n",
    "    if i%3==0:\n",
    "        print('{} is divisible by {}'.format(i,3))\n",
    "    else:\n",
    "        print('{} not divisible by {}'.format(i,3))"
   ]
  },
  {
   "cell_type": "code",
   "execution_count": null,
   "id": "65a2dc48",
   "metadata": {},
   "outputs": [],
   "source": [
    "#Ques 7\n",
    "\"\"\"\n",
    "Mutable data types are those which can be changed such as updating values of integer variable a\n",
    "Immutable data types are those which cannot be altered such as String or tuple\n",
    "\"\"\""
   ]
  }
 ],
 "metadata": {
  "kernelspec": {
   "display_name": "Python 3 (ipykernel)",
   "language": "python",
   "name": "python3"
  },
  "language_info": {
   "codemirror_mode": {
    "name": "ipython",
    "version": 3
   },
   "file_extension": ".py",
   "mimetype": "text/x-python",
   "name": "python",
   "nbconvert_exporter": "python",
   "pygments_lexer": "ipython3",
   "version": "3.9.7"
  }
 },
 "nbformat": 4,
 "nbformat_minor": 5
}
